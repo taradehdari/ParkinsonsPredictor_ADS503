{
 "cells": [
  {
   "cell_type": "markdown",
   "metadata": {},
   "source": [
    "---\n",
    "title: \"Comprehensive Predictive Modeling for Parkinson's Data\"\n",
    "author: \"Your Name\"\n",
    "output: github_document\n",
    "---\n",
    "\n",
    "## Introduction\n",
    "\n",
    "This document contains a comprehensive predictive modeling analysis of the Parkinson's data.\n"
   ]
  },
  {
   "cell_type": "code",
   "execution_count": 28,
   "metadata": {
    "vscode": {
     "languageId": "r"
    }
   },
   "outputs": [],
   "source": [
    "# Load libraries silently\n",
    "suppressPackageStartupMessages({\n",
    "  library(caret)\n",
    "  library(ggplot2)\n",
    "  library(randomForest)\n",
    "  library(e1071)\n",
    "  library(rmarkdown)\n",
    "})\n"
   ]
  },
  {
   "cell_type": "code",
   "execution_count": 29,
   "metadata": {
    "vscode": {
     "languageId": "r"
    }
   },
   "outputs": [
    {
     "data": {
      "text/html": [
       "<table class=\"dataframe\">\n",
       "<caption>A data.frame: 6 × 23</caption>\n",
       "<thead>\n",
       "\t<tr><th></th><th scope=col>index</th><th scope=col>subject.</th><th scope=col>age</th><th scope=col>sex</th><th scope=col>test_time</th><th scope=col>motor_UPDRS</th><th scope=col>total_UPDRS</th><th scope=col>Jitter...</th><th scope=col>Jitter.Abs.</th><th scope=col>Jitter.RAP</th><th scope=col>⋯</th><th scope=col>Shimmer.dB.</th><th scope=col>Shimmer.APQ3</th><th scope=col>Shimmer.APQ5</th><th scope=col>Shimmer.APQ11</th><th scope=col>Shimmer.DDA</th><th scope=col>NHR</th><th scope=col>HNR</th><th scope=col>RPDE</th><th scope=col>DFA</th><th scope=col>PPE</th></tr>\n",
       "\t<tr><th></th><th scope=col>&lt;int&gt;</th><th scope=col>&lt;int&gt;</th><th scope=col>&lt;int&gt;</th><th scope=col>&lt;int&gt;</th><th scope=col>&lt;dbl&gt;</th><th scope=col>&lt;dbl&gt;</th><th scope=col>&lt;dbl&gt;</th><th scope=col>&lt;dbl&gt;</th><th scope=col>&lt;dbl&gt;</th><th scope=col>&lt;dbl&gt;</th><th scope=col>⋯</th><th scope=col>&lt;dbl&gt;</th><th scope=col>&lt;dbl&gt;</th><th scope=col>&lt;dbl&gt;</th><th scope=col>&lt;dbl&gt;</th><th scope=col>&lt;dbl&gt;</th><th scope=col>&lt;dbl&gt;</th><th scope=col>&lt;dbl&gt;</th><th scope=col>&lt;dbl&gt;</th><th scope=col>&lt;dbl&gt;</th><th scope=col>&lt;dbl&gt;</th></tr>\n",
       "</thead>\n",
       "<tbody>\n",
       "\t<tr><th scope=row>1</th><td>0</td><td>1</td><td>72</td><td>0</td><td> 5.6431</td><td>28.199</td><td>34.398</td><td>0.00662</td><td>3.380e-05</td><td>0.00401</td><td>⋯</td><td>0.230</td><td>0.01438</td><td>0.01309</td><td>0.01662</td><td>0.04314</td><td>0.014290</td><td>21.640</td><td>0.41888</td><td>0.54842</td><td>0.16006</td></tr>\n",
       "\t<tr><th scope=row>2</th><td>1</td><td>1</td><td>72</td><td>0</td><td>12.6660</td><td>28.447</td><td>34.894</td><td>0.00300</td><td>1.680e-05</td><td>0.00132</td><td>⋯</td><td>0.179</td><td>0.00994</td><td>0.01072</td><td>0.01689</td><td>0.02982</td><td>0.011112</td><td>27.183</td><td>0.43493</td><td>0.56477</td><td>0.10810</td></tr>\n",
       "\t<tr><th scope=row>3</th><td>2</td><td>1</td><td>72</td><td>0</td><td>19.6810</td><td>28.695</td><td>35.389</td><td>0.00481</td><td>2.462e-05</td><td>0.00205</td><td>⋯</td><td>0.181</td><td>0.00734</td><td>0.00844</td><td>0.01458</td><td>0.02202</td><td>0.020220</td><td>23.047</td><td>0.46222</td><td>0.54405</td><td>0.21014</td></tr>\n",
       "\t<tr><th scope=row>4</th><td>3</td><td>1</td><td>72</td><td>0</td><td>25.6470</td><td>28.905</td><td>35.810</td><td>0.00528</td><td>2.657e-05</td><td>0.00191</td><td>⋯</td><td>0.327</td><td>0.01106</td><td>0.01265</td><td>0.01963</td><td>0.03317</td><td>0.027837</td><td>24.445</td><td>0.48730</td><td>0.57794</td><td>0.33277</td></tr>\n",
       "\t<tr><th scope=row>5</th><td>4</td><td>1</td><td>72</td><td>0</td><td>33.6420</td><td>29.187</td><td>36.375</td><td>0.00335</td><td>2.014e-05</td><td>0.00093</td><td>⋯</td><td>0.176</td><td>0.00679</td><td>0.00929</td><td>0.01819</td><td>0.02036</td><td>0.011625</td><td>26.126</td><td>0.47188</td><td>0.56122</td><td>0.19361</td></tr>\n",
       "\t<tr><th scope=row>6</th><td>5</td><td>1</td><td>72</td><td>0</td><td>40.6520</td><td>29.435</td><td>36.870</td><td>0.00353</td><td>2.290e-05</td><td>0.00119</td><td>⋯</td><td>0.214</td><td>0.01006</td><td>0.01337</td><td>0.02263</td><td>0.03019</td><td>0.009438</td><td>22.946</td><td>0.53949</td><td>0.57243</td><td>0.19500</td></tr>\n",
       "</tbody>\n",
       "</table>\n"
      ],
      "text/latex": [
       "A data.frame: 6 × 23\n",
       "\\begin{tabular}{r|lllllllllllllllllllll}\n",
       "  & index & subject. & age & sex & test\\_time & motor\\_UPDRS & total\\_UPDRS & Jitter... & Jitter.Abs. & Jitter.RAP & ⋯ & Shimmer.dB. & Shimmer.APQ3 & Shimmer.APQ5 & Shimmer.APQ11 & Shimmer.DDA & NHR & HNR & RPDE & DFA & PPE\\\\\n",
       "  & <int> & <int> & <int> & <int> & <dbl> & <dbl> & <dbl> & <dbl> & <dbl> & <dbl> & ⋯ & <dbl> & <dbl> & <dbl> & <dbl> & <dbl> & <dbl> & <dbl> & <dbl> & <dbl> & <dbl>\\\\\n",
       "\\hline\n",
       "\t1 & 0 & 1 & 72 & 0 &  5.6431 & 28.199 & 34.398 & 0.00662 & 3.380e-05 & 0.00401 & ⋯ & 0.230 & 0.01438 & 0.01309 & 0.01662 & 0.04314 & 0.014290 & 21.640 & 0.41888 & 0.54842 & 0.16006\\\\\n",
       "\t2 & 1 & 1 & 72 & 0 & 12.6660 & 28.447 & 34.894 & 0.00300 & 1.680e-05 & 0.00132 & ⋯ & 0.179 & 0.00994 & 0.01072 & 0.01689 & 0.02982 & 0.011112 & 27.183 & 0.43493 & 0.56477 & 0.10810\\\\\n",
       "\t3 & 2 & 1 & 72 & 0 & 19.6810 & 28.695 & 35.389 & 0.00481 & 2.462e-05 & 0.00205 & ⋯ & 0.181 & 0.00734 & 0.00844 & 0.01458 & 0.02202 & 0.020220 & 23.047 & 0.46222 & 0.54405 & 0.21014\\\\\n",
       "\t4 & 3 & 1 & 72 & 0 & 25.6470 & 28.905 & 35.810 & 0.00528 & 2.657e-05 & 0.00191 & ⋯ & 0.327 & 0.01106 & 0.01265 & 0.01963 & 0.03317 & 0.027837 & 24.445 & 0.48730 & 0.57794 & 0.33277\\\\\n",
       "\t5 & 4 & 1 & 72 & 0 & 33.6420 & 29.187 & 36.375 & 0.00335 & 2.014e-05 & 0.00093 & ⋯ & 0.176 & 0.00679 & 0.00929 & 0.01819 & 0.02036 & 0.011625 & 26.126 & 0.47188 & 0.56122 & 0.19361\\\\\n",
       "\t6 & 5 & 1 & 72 & 0 & 40.6520 & 29.435 & 36.870 & 0.00353 & 2.290e-05 & 0.00119 & ⋯ & 0.214 & 0.01006 & 0.01337 & 0.02263 & 0.03019 & 0.009438 & 22.946 & 0.53949 & 0.57243 & 0.19500\\\\\n",
       "\\end{tabular}\n"
      ],
      "text/markdown": [
       "\n",
       "A data.frame: 6 × 23\n",
       "\n",
       "| <!--/--> | index &lt;int&gt; | subject. &lt;int&gt; | age &lt;int&gt; | sex &lt;int&gt; | test_time &lt;dbl&gt; | motor_UPDRS &lt;dbl&gt; | total_UPDRS &lt;dbl&gt; | Jitter... &lt;dbl&gt; | Jitter.Abs. &lt;dbl&gt; | Jitter.RAP &lt;dbl&gt; | ⋯ ⋯ | Shimmer.dB. &lt;dbl&gt; | Shimmer.APQ3 &lt;dbl&gt; | Shimmer.APQ5 &lt;dbl&gt; | Shimmer.APQ11 &lt;dbl&gt; | Shimmer.DDA &lt;dbl&gt; | NHR &lt;dbl&gt; | HNR &lt;dbl&gt; | RPDE &lt;dbl&gt; | DFA &lt;dbl&gt; | PPE &lt;dbl&gt; |\n",
       "|---|---|---|---|---|---|---|---|---|---|---|---|---|---|---|---|---|---|---|---|---|---|\n",
       "| 1 | 0 | 1 | 72 | 0 |  5.6431 | 28.199 | 34.398 | 0.00662 | 3.380e-05 | 0.00401 | ⋯ | 0.230 | 0.01438 | 0.01309 | 0.01662 | 0.04314 | 0.014290 | 21.640 | 0.41888 | 0.54842 | 0.16006 |\n",
       "| 2 | 1 | 1 | 72 | 0 | 12.6660 | 28.447 | 34.894 | 0.00300 | 1.680e-05 | 0.00132 | ⋯ | 0.179 | 0.00994 | 0.01072 | 0.01689 | 0.02982 | 0.011112 | 27.183 | 0.43493 | 0.56477 | 0.10810 |\n",
       "| 3 | 2 | 1 | 72 | 0 | 19.6810 | 28.695 | 35.389 | 0.00481 | 2.462e-05 | 0.00205 | ⋯ | 0.181 | 0.00734 | 0.00844 | 0.01458 | 0.02202 | 0.020220 | 23.047 | 0.46222 | 0.54405 | 0.21014 |\n",
       "| 4 | 3 | 1 | 72 | 0 | 25.6470 | 28.905 | 35.810 | 0.00528 | 2.657e-05 | 0.00191 | ⋯ | 0.327 | 0.01106 | 0.01265 | 0.01963 | 0.03317 | 0.027837 | 24.445 | 0.48730 | 0.57794 | 0.33277 |\n",
       "| 5 | 4 | 1 | 72 | 0 | 33.6420 | 29.187 | 36.375 | 0.00335 | 2.014e-05 | 0.00093 | ⋯ | 0.176 | 0.00679 | 0.00929 | 0.01819 | 0.02036 | 0.011625 | 26.126 | 0.47188 | 0.56122 | 0.19361 |\n",
       "| 6 | 5 | 1 | 72 | 0 | 40.6520 | 29.435 | 36.870 | 0.00353 | 2.290e-05 | 0.00119 | ⋯ | 0.214 | 0.01006 | 0.01337 | 0.02263 | 0.03019 | 0.009438 | 22.946 | 0.53949 | 0.57243 | 0.19500 |\n",
       "\n"
      ],
      "text/plain": [
       "  index subject. age sex test_time motor_UPDRS total_UPDRS Jitter...\n",
       "1 0     1        72  0    5.6431   28.199      34.398      0.00662  \n",
       "2 1     1        72  0   12.6660   28.447      34.894      0.00300  \n",
       "3 2     1        72  0   19.6810   28.695      35.389      0.00481  \n",
       "4 3     1        72  0   25.6470   28.905      35.810      0.00528  \n",
       "5 4     1        72  0   33.6420   29.187      36.375      0.00335  \n",
       "6 5     1        72  0   40.6520   29.435      36.870      0.00353  \n",
       "  Jitter.Abs. Jitter.RAP ⋯ Shimmer.dB. Shimmer.APQ3 Shimmer.APQ5 Shimmer.APQ11\n",
       "1 3.380e-05   0.00401    ⋯ 0.230       0.01438      0.01309      0.01662      \n",
       "2 1.680e-05   0.00132    ⋯ 0.179       0.00994      0.01072      0.01689      \n",
       "3 2.462e-05   0.00205    ⋯ 0.181       0.00734      0.00844      0.01458      \n",
       "4 2.657e-05   0.00191    ⋯ 0.327       0.01106      0.01265      0.01963      \n",
       "5 2.014e-05   0.00093    ⋯ 0.176       0.00679      0.00929      0.01819      \n",
       "6 2.290e-05   0.00119    ⋯ 0.214       0.01006      0.01337      0.02263      \n",
       "  Shimmer.DDA NHR      HNR    RPDE    DFA     PPE    \n",
       "1 0.04314     0.014290 21.640 0.41888 0.54842 0.16006\n",
       "2 0.02982     0.011112 27.183 0.43493 0.56477 0.10810\n",
       "3 0.02202     0.020220 23.047 0.46222 0.54405 0.21014\n",
       "4 0.03317     0.027837 24.445 0.48730 0.57794 0.33277\n",
       "5 0.02036     0.011625 26.126 0.47188 0.56122 0.19361\n",
       "6 0.03019     0.009438 22.946 0.53949 0.57243 0.19500"
      ]
     },
     "metadata": {},
     "output_type": "display_data"
    }
   ],
   "source": [
    "data <- read.csv('parkinsons_updrs.data.csv')\n",
    "head(data)"
   ]
  },
  {
   "cell_type": "code",
   "execution_count": 30,
   "metadata": {
    "vscode": {
     "languageId": "r"
    }
   },
   "outputs": [
    {
     "data": {
      "text/plain": [
       "     index         subject.          age            sex        \n",
       " Min.   :   0   Min.   : 1.00   Min.   :36.0   Min.   :0.0000  \n",
       " 1st Qu.:1468   1st Qu.:10.00   1st Qu.:58.0   1st Qu.:0.0000  \n",
       " Median :2937   Median :22.00   Median :65.0   Median :0.0000  \n",
       " Mean   :2937   Mean   :21.49   Mean   :64.8   Mean   :0.3178  \n",
       " 3rd Qu.:4406   3rd Qu.:33.00   3rd Qu.:72.0   3rd Qu.:1.0000  \n",
       " Max.   :5874   Max.   :42.00   Max.   :85.0   Max.   :1.0000  \n",
       "   test_time        motor_UPDRS      total_UPDRS      Jitter...       \n",
       " Min.   : -4.263   Min.   : 5.038   Min.   : 7.00   Min.   :0.000830  \n",
       " 1st Qu.: 46.847   1st Qu.:15.000   1st Qu.:21.37   1st Qu.:0.003580  \n",
       " Median : 91.523   Median :20.871   Median :27.58   Median :0.004900  \n",
       " Mean   : 92.864   Mean   :21.296   Mean   :29.02   Mean   :0.006154  \n",
       " 3rd Qu.:138.445   3rd Qu.:27.596   3rd Qu.:36.40   3rd Qu.:0.006800  \n",
       " Max.   :215.490   Max.   :39.511   Max.   :54.99   Max.   :0.099990  \n",
       "  Jitter.Abs.          Jitter.RAP        Jitter.PPQ5         Jitter.DDP      \n",
       " Min.   :2.250e-06   Min.   :0.000330   Min.   :0.000430   Min.   :0.000980  \n",
       " 1st Qu.:2.244e-05   1st Qu.:0.001580   1st Qu.:0.001820   1st Qu.:0.004730  \n",
       " Median :3.453e-05   Median :0.002250   Median :0.002490   Median :0.006750  \n",
       " Mean   :4.403e-05   Mean   :0.002987   Mean   :0.003277   Mean   :0.008962  \n",
       " 3rd Qu.:5.333e-05   3rd Qu.:0.003290   3rd Qu.:0.003460   3rd Qu.:0.009870  \n",
       " Max.   :4.456e-04   Max.   :0.057540   Max.   :0.069560   Max.   :0.172630  \n",
       "    Shimmer         Shimmer.dB.     Shimmer.APQ3      Shimmer.APQ5    \n",
       " Min.   :0.00306   Min.   :0.026   Min.   :0.00161   Min.   :0.00194  \n",
       " 1st Qu.:0.01912   1st Qu.:0.175   1st Qu.:0.00928   1st Qu.:0.01079  \n",
       " Median :0.02751   Median :0.253   Median :0.01370   Median :0.01594  \n",
       " Mean   :0.03404   Mean   :0.311   Mean   :0.01716   Mean   :0.02014  \n",
       " 3rd Qu.:0.03975   3rd Qu.:0.365   3rd Qu.:0.02057   3rd Qu.:0.02375  \n",
       " Max.   :0.26863   Max.   :2.107   Max.   :0.16267   Max.   :0.16702  \n",
       " Shimmer.APQ11      Shimmer.DDA           NHR                HNR        \n",
       " Min.   :0.00249   Min.   :0.00484   Min.   :0.000286   Min.   : 1.659  \n",
       " 1st Qu.:0.01566   1st Qu.:0.02783   1st Qu.:0.010955   1st Qu.:19.406  \n",
       " Median :0.02271   Median :0.04111   Median :0.018448   Median :21.920  \n",
       " Mean   :0.02748   Mean   :0.05147   Mean   :0.032120   Mean   :21.680  \n",
       " 3rd Qu.:0.03272   3rd Qu.:0.06173   3rd Qu.:0.031463   3rd Qu.:24.444  \n",
       " Max.   :0.27546   Max.   :0.48802   Max.   :0.748260   Max.   :37.875  \n",
       "      RPDE             DFA              PPE         \n",
       " Min.   :0.1510   Min.   :0.5140   Min.   :0.02198  \n",
       " 1st Qu.:0.4698   1st Qu.:0.5962   1st Qu.:0.15634  \n",
       " Median :0.5423   Median :0.6436   Median :0.20550  \n",
       " Mean   :0.5415   Mean   :0.6532   Mean   :0.21959  \n",
       " 3rd Qu.:0.6140   3rd Qu.:0.7113   3rd Qu.:0.26449  \n",
       " Max.   :0.9661   Max.   :0.8656   Max.   :0.73173  "
      ]
     },
     "metadata": {},
     "output_type": "display_data"
    }
   ],
   "source": [
    "summary(data)"
   ]
  },
  {
   "cell_type": "code",
   "execution_count": 31,
   "metadata": {
    "vscode": {
     "languageId": "r"
    }
   },
   "outputs": [
    {
     "data": {
      "text/html": [
       "0"
      ],
      "text/latex": [
       "0"
      ],
      "text/markdown": [
       "0"
      ],
      "text/plain": [
       "[1] 0"
      ]
     },
     "metadata": {},
     "output_type": "display_data"
    }
   ],
   "source": [
    "sum(is.na(data))"
   ]
  },
  {
   "cell_type": "code",
   "execution_count": 32,
   "metadata": {
    "vscode": {
     "languageId": "r"
    }
   },
   "outputs": [
    {
     "data": {
      "text/html": [
       "0"
      ],
      "text/latex": [
       "0"
      ],
      "text/markdown": [
       "0"
      ],
      "text/plain": [
       "[1] 0"
      ]
     },
     "metadata": {},
     "output_type": "display_data"
    },
    {
     "data": {
      "text/html": [
       "<table class=\"dataframe\">\n",
       "<caption>A data.frame: 6 × 23</caption>\n",
       "<thead>\n",
       "\t<tr><th></th><th scope=col>index</th><th scope=col>subject.</th><th scope=col>age</th><th scope=col>sex</th><th scope=col>test_time</th><th scope=col>motor_UPDRS</th><th scope=col>total_UPDRS</th><th scope=col>Jitter...</th><th scope=col>Jitter.Abs.</th><th scope=col>Jitter.RAP</th><th scope=col>⋯</th><th scope=col>Shimmer.dB.</th><th scope=col>Shimmer.APQ3</th><th scope=col>Shimmer.APQ5</th><th scope=col>Shimmer.APQ11</th><th scope=col>Shimmer.DDA</th><th scope=col>NHR</th><th scope=col>HNR</th><th scope=col>RPDE</th><th scope=col>DFA</th><th scope=col>PPE</th></tr>\n",
       "\t<tr><th></th><th scope=col>&lt;int&gt;</th><th scope=col>&lt;int&gt;</th><th scope=col>&lt;dbl&gt;</th><th scope=col>&lt;dbl&gt;</th><th scope=col>&lt;dbl&gt;</th><th scope=col>&lt;dbl&gt;</th><th scope=col>&lt;dbl&gt;</th><th scope=col>&lt;dbl&gt;</th><th scope=col>&lt;dbl&gt;</th><th scope=col>&lt;dbl&gt;</th><th scope=col>⋯</th><th scope=col>&lt;dbl&gt;</th><th scope=col>&lt;dbl&gt;</th><th scope=col>&lt;dbl&gt;</th><th scope=col>&lt;dbl&gt;</th><th scope=col>&lt;dbl&gt;</th><th scope=col>&lt;dbl&gt;</th><th scope=col>&lt;dbl&gt;</th><th scope=col>&lt;dbl&gt;</th><th scope=col>&lt;dbl&gt;</th><th scope=col>&lt;dbl&gt;</th></tr>\n",
       "</thead>\n",
       "<tbody>\n",
       "\t<tr><th scope=row>1</th><td>0</td><td>1</td><td>0.815626</td><td>-0.6824508</td><td>-1.6319513</td><td>0.8491244</td><td>0.5027024</td><td> 0.08289818</td><td>-0.2842180</td><td> 0.3274246</td><td>⋯</td><td>-0.3516122</td><td>-0.2096910</td><td>-0.4233205</td><td>-0.5434195</td><td>-0.2096865</td><td>-0.29869541</td><td>-0.009203976</td><td>-1.21396224</td><td>-1.478374</td><td>-0.6506028</td></tr>\n",
       "\t<tr><th scope=row>2</th><td>1</td><td>1</td><td>0.815626</td><td>-0.6824508</td><td>-1.5005486</td><td>0.8796314</td><td>0.5490563</td><td>-0.56074568</td><td>-0.7566586</td><td>-0.5337008</td><td>⋯</td><td>-0.5731071</td><td>-0.5451114</td><td>-0.5655438</td><td>-0.5299101</td><td>-0.5451066</td><td>-0.35193510</td><td> 1.282540523</td><td>-1.05502898</td><td>-1.247774</td><td>-1.2184810</td></tr>\n",
       "\t<tr><th scope=row>3</th><td>2</td><td>1</td><td>0.815626</td><td>-0.6824508</td><td>-1.3692936</td><td>0.9101384</td><td>0.5953167</td><td>-0.23892375</td><td>-0.5393359</td><td>-0.3000125</td><td>⋯</td><td>-0.5644210</td><td>-0.7415288</td><td>-0.7023662</td><td>-0.6454902</td><td>-0.7415238</td><td>-0.19935262</td><td> 0.318684263</td><td>-0.78479294</td><td>-1.540008</td><td>-0.1032714</td></tr>\n",
       "\t<tr><th scope=row>4</th><td>3</td><td>1</td><td>0.815626</td><td>-0.6824508</td><td>-1.2576661</td><td>0.9359710</td><td>0.6346615</td><td>-0.15535673</td><td>-0.4851442</td><td>-0.3448294</td><td>⋯</td><td> 0.0696623</td><td>-0.4605008</td><td>-0.4497248</td><td>-0.3928152</td><td>-0.4607479</td><td>-0.07174823</td><td> 0.644475136</td><td>-0.53644116</td><td>-1.062024</td><td> 1.2369692</td></tr>\n",
       "\t<tr><th scope=row>5</th><td>4</td><td>1</td><td>0.815626</td><td>-0.6824508</td><td>-1.1080747</td><td>0.9706604</td><td>0.6874638</td><td>-0.49851492</td><td>-0.6638379</td><td>-0.6585480</td><td>⋯</td><td>-0.5861362</td><td>-0.7830786</td><td>-0.6513579</td><td>-0.4648651</td><td>-0.7833254</td><td>-0.34334103</td><td> 1.036216523</td><td>-0.68913591</td><td>-1.297843</td><td>-0.2839301</td></tr>\n",
       "\t<tr><th scope=row>6</th><td>5</td><td>1</td><td>0.815626</td><td>-0.6824508</td><td>-0.9769133</td><td>1.0011674</td><td>0.7337243</td><td>-0.46651053</td><td>-0.5871358</td><td>-0.5753165</td><td>⋯</td><td>-0.4211008</td><td>-0.5360460</td><td>-0.4065177</td><td>-0.2427112</td><td>-0.5357894</td><td>-0.37997892</td><td> 0.295147154</td><td>-0.01963576</td><td>-1.139737</td><td>-0.2687386</td></tr>\n",
       "</tbody>\n",
       "</table>\n"
      ],
      "text/latex": [
       "A data.frame: 6 × 23\n",
       "\\begin{tabular}{r|lllllllllllllllllllll}\n",
       "  & index & subject. & age & sex & test\\_time & motor\\_UPDRS & total\\_UPDRS & Jitter... & Jitter.Abs. & Jitter.RAP & ⋯ & Shimmer.dB. & Shimmer.APQ3 & Shimmer.APQ5 & Shimmer.APQ11 & Shimmer.DDA & NHR & HNR & RPDE & DFA & PPE\\\\\n",
       "  & <int> & <int> & <dbl> & <dbl> & <dbl> & <dbl> & <dbl> & <dbl> & <dbl> & <dbl> & ⋯ & <dbl> & <dbl> & <dbl> & <dbl> & <dbl> & <dbl> & <dbl> & <dbl> & <dbl> & <dbl>\\\\\n",
       "\\hline\n",
       "\t1 & 0 & 1 & 0.815626 & -0.6824508 & -1.6319513 & 0.8491244 & 0.5027024 &  0.08289818 & -0.2842180 &  0.3274246 & ⋯ & -0.3516122 & -0.2096910 & -0.4233205 & -0.5434195 & -0.2096865 & -0.29869541 & -0.009203976 & -1.21396224 & -1.478374 & -0.6506028\\\\\n",
       "\t2 & 1 & 1 & 0.815626 & -0.6824508 & -1.5005486 & 0.8796314 & 0.5490563 & -0.56074568 & -0.7566586 & -0.5337008 & ⋯ & -0.5731071 & -0.5451114 & -0.5655438 & -0.5299101 & -0.5451066 & -0.35193510 &  1.282540523 & -1.05502898 & -1.247774 & -1.2184810\\\\\n",
       "\t3 & 2 & 1 & 0.815626 & -0.6824508 & -1.3692936 & 0.9101384 & 0.5953167 & -0.23892375 & -0.5393359 & -0.3000125 & ⋯ & -0.5644210 & -0.7415288 & -0.7023662 & -0.6454902 & -0.7415238 & -0.19935262 &  0.318684263 & -0.78479294 & -1.540008 & -0.1032714\\\\\n",
       "\t4 & 3 & 1 & 0.815626 & -0.6824508 & -1.2576661 & 0.9359710 & 0.6346615 & -0.15535673 & -0.4851442 & -0.3448294 & ⋯ &  0.0696623 & -0.4605008 & -0.4497248 & -0.3928152 & -0.4607479 & -0.07174823 &  0.644475136 & -0.53644116 & -1.062024 &  1.2369692\\\\\n",
       "\t5 & 4 & 1 & 0.815626 & -0.6824508 & -1.1080747 & 0.9706604 & 0.6874638 & -0.49851492 & -0.6638379 & -0.6585480 & ⋯ & -0.5861362 & -0.7830786 & -0.6513579 & -0.4648651 & -0.7833254 & -0.34334103 &  1.036216523 & -0.68913591 & -1.297843 & -0.2839301\\\\\n",
       "\t6 & 5 & 1 & 0.815626 & -0.6824508 & -0.9769133 & 1.0011674 & 0.7337243 & -0.46651053 & -0.5871358 & -0.5753165 & ⋯ & -0.4211008 & -0.5360460 & -0.4065177 & -0.2427112 & -0.5357894 & -0.37997892 &  0.295147154 & -0.01963576 & -1.139737 & -0.2687386\\\\\n",
       "\\end{tabular}\n"
      ],
      "text/markdown": [
       "\n",
       "A data.frame: 6 × 23\n",
       "\n",
       "| <!--/--> | index &lt;int&gt; | subject. &lt;int&gt; | age &lt;dbl&gt; | sex &lt;dbl&gt; | test_time &lt;dbl&gt; | motor_UPDRS &lt;dbl&gt; | total_UPDRS &lt;dbl&gt; | Jitter... &lt;dbl&gt; | Jitter.Abs. &lt;dbl&gt; | Jitter.RAP &lt;dbl&gt; | ⋯ ⋯ | Shimmer.dB. &lt;dbl&gt; | Shimmer.APQ3 &lt;dbl&gt; | Shimmer.APQ5 &lt;dbl&gt; | Shimmer.APQ11 &lt;dbl&gt; | Shimmer.DDA &lt;dbl&gt; | NHR &lt;dbl&gt; | HNR &lt;dbl&gt; | RPDE &lt;dbl&gt; | DFA &lt;dbl&gt; | PPE &lt;dbl&gt; |\n",
       "|---|---|---|---|---|---|---|---|---|---|---|---|---|---|---|---|---|---|---|---|---|---|\n",
       "| 1 | 0 | 1 | 0.815626 | -0.6824508 | -1.6319513 | 0.8491244 | 0.5027024 |  0.08289818 | -0.2842180 |  0.3274246 | ⋯ | -0.3516122 | -0.2096910 | -0.4233205 | -0.5434195 | -0.2096865 | -0.29869541 | -0.009203976 | -1.21396224 | -1.478374 | -0.6506028 |\n",
       "| 2 | 1 | 1 | 0.815626 | -0.6824508 | -1.5005486 | 0.8796314 | 0.5490563 | -0.56074568 | -0.7566586 | -0.5337008 | ⋯ | -0.5731071 | -0.5451114 | -0.5655438 | -0.5299101 | -0.5451066 | -0.35193510 |  1.282540523 | -1.05502898 | -1.247774 | -1.2184810 |\n",
       "| 3 | 2 | 1 | 0.815626 | -0.6824508 | -1.3692936 | 0.9101384 | 0.5953167 | -0.23892375 | -0.5393359 | -0.3000125 | ⋯ | -0.5644210 | -0.7415288 | -0.7023662 | -0.6454902 | -0.7415238 | -0.19935262 |  0.318684263 | -0.78479294 | -1.540008 | -0.1032714 |\n",
       "| 4 | 3 | 1 | 0.815626 | -0.6824508 | -1.2576661 | 0.9359710 | 0.6346615 | -0.15535673 | -0.4851442 | -0.3448294 | ⋯ |  0.0696623 | -0.4605008 | -0.4497248 | -0.3928152 | -0.4607479 | -0.07174823 |  0.644475136 | -0.53644116 | -1.062024 |  1.2369692 |\n",
       "| 5 | 4 | 1 | 0.815626 | -0.6824508 | -1.1080747 | 0.9706604 | 0.6874638 | -0.49851492 | -0.6638379 | -0.6585480 | ⋯ | -0.5861362 | -0.7830786 | -0.6513579 | -0.4648651 | -0.7833254 | -0.34334103 |  1.036216523 | -0.68913591 | -1.297843 | -0.2839301 |\n",
       "| 6 | 5 | 1 | 0.815626 | -0.6824508 | -0.9769133 | 1.0011674 | 0.7337243 | -0.46651053 | -0.5871358 | -0.5753165 | ⋯ | -0.4211008 | -0.5360460 | -0.4065177 | -0.2427112 | -0.5357894 | -0.37997892 |  0.295147154 | -0.01963576 | -1.139737 | -0.2687386 |\n",
       "\n"
      ],
      "text/plain": [
       "  index subject. age      sex        test_time  motor_UPDRS total_UPDRS\n",
       "1 0     1        0.815626 -0.6824508 -1.6319513 0.8491244   0.5027024  \n",
       "2 1     1        0.815626 -0.6824508 -1.5005486 0.8796314   0.5490563  \n",
       "3 2     1        0.815626 -0.6824508 -1.3692936 0.9101384   0.5953167  \n",
       "4 3     1        0.815626 -0.6824508 -1.2576661 0.9359710   0.6346615  \n",
       "5 4     1        0.815626 -0.6824508 -1.1080747 0.9706604   0.6874638  \n",
       "6 5     1        0.815626 -0.6824508 -0.9769133 1.0011674   0.7337243  \n",
       "  Jitter...   Jitter.Abs. Jitter.RAP ⋯ Shimmer.dB. Shimmer.APQ3 Shimmer.APQ5\n",
       "1  0.08289818 -0.2842180   0.3274246 ⋯ -0.3516122  -0.2096910   -0.4233205  \n",
       "2 -0.56074568 -0.7566586  -0.5337008 ⋯ -0.5731071  -0.5451114   -0.5655438  \n",
       "3 -0.23892375 -0.5393359  -0.3000125 ⋯ -0.5644210  -0.7415288   -0.7023662  \n",
       "4 -0.15535673 -0.4851442  -0.3448294 ⋯  0.0696623  -0.4605008   -0.4497248  \n",
       "5 -0.49851492 -0.6638379  -0.6585480 ⋯ -0.5861362  -0.7830786   -0.6513579  \n",
       "6 -0.46651053 -0.5871358  -0.5753165 ⋯ -0.4211008  -0.5360460   -0.4065177  \n",
       "  Shimmer.APQ11 Shimmer.DDA NHR         HNR          RPDE        DFA      \n",
       "1 -0.5434195    -0.2096865  -0.29869541 -0.009203976 -1.21396224 -1.478374\n",
       "2 -0.5299101    -0.5451066  -0.35193510  1.282540523 -1.05502898 -1.247774\n",
       "3 -0.6454902    -0.7415238  -0.19935262  0.318684263 -0.78479294 -1.540008\n",
       "4 -0.3928152    -0.4607479  -0.07174823  0.644475136 -0.53644116 -1.062024\n",
       "5 -0.4648651    -0.7833254  -0.34334103  1.036216523 -0.68913591 -1.297843\n",
       "6 -0.2427112    -0.5357894  -0.37997892  0.295147154 -0.01963576 -1.139737\n",
       "  PPE       \n",
       "1 -0.6506028\n",
       "2 -1.2184810\n",
       "3 -0.1032714\n",
       "4  1.2369692\n",
       "5 -0.2839301\n",
       "6 -0.2687386"
      ]
     },
     "metadata": {},
     "output_type": "display_data"
    }
   ],
   "source": [
    "# Check for missing values\n",
    "sum(is.na(data))\n",
    "\n",
    "# Normalize the numerical features\n",
    "preProc <- preProcess(data[, -c(1, 2)], method = c(\"center\", \"scale\"))\n",
    "data_normalized <- predict(preProc, data[, -c(1, 2)])\n",
    "data <- cbind(data[, c(1, 2)], data_normalized)\n",
    "\n",
    "# Display the first few rows of the normalized data\n",
    "head(data)\n"
   ]
  },
  {
   "cell_type": "code",
   "execution_count": 33,
   "metadata": {
    "vscode": {
     "languageId": "r"
    }
   },
   "outputs": [],
   "source": [
    "# Set seed for reproducibility\n",
    "set.seed(123)\n",
    "\n",
    "# Split the data\n",
    "trainIndex <- createDataPartition(data$total_UPDRS, p = 0.8, \n",
    "                                  list = FALSE, \n",
    "                                  times = 1)\n",
    "dataTrain <- data[trainIndex, ]\n",
    "dataTest  <- data[-trainIndex, ]\n"
   ]
  },
  {
   "cell_type": "code",
   "execution_count": 34,
   "metadata": {
    "vscode": {
     "languageId": "r"
    }
   },
   "outputs": [
    {
     "data": {
      "text/plain": [
       "\n",
       "Call:\n",
       "lm(formula = .outcome ~ ., data = dat)\n",
       "\n",
       "Residuals:\n",
       "     Min       1Q   Median       3Q      Max \n",
       "-0.74892 -0.19306 -0.03899  0.11800  1.21009 \n",
       "\n",
       "Coefficients:\n",
       "                Estimate Std. Error t value Pr(>|t|)    \n",
       "(Intercept)   -9.018e-02  9.970e-03  -9.045  < 2e-16 ***\n",
       "index          7.851e-05  9.195e-05   0.854 0.393236    \n",
       "subject.      -6.493e-03  1.266e-02  -0.513 0.607919    \n",
       "age            5.871e-02  4.757e-03  12.343  < 2e-16 ***\n",
       "sex           -7.249e-02  5.377e-03 -13.481  < 2e-16 ***\n",
       "test_time      1.701e-02  4.459e-03   3.815 0.000138 ***\n",
       "motor_UPDRS    9.137e-01  5.034e-03 181.525  < 2e-16 ***\n",
       "Jitter...     -2.440e-01  4.198e-02  -5.813 6.52e-09 ***\n",
       "Jitter.Abs.    8.339e-02  1.314e-02   6.346 2.42e-10 ***\n",
       "Jitter.RAP    -1.732e+00  5.036e+00  -0.344 0.730911    \n",
       "Jitter.PPQ5    4.537e-02  2.427e-02   1.869 0.061688 .  \n",
       "Jitter.DDP     1.880e+00  5.037e+00   0.373 0.709015    \n",
       "Shimmer       -1.573e-01  5.663e-02  -2.777 0.005508 ** \n",
       "Shimmer.dB.    4.753e-02  3.818e-02   1.245 0.213209    \n",
       "Shimmer.APQ3  -2.338e+01  2.146e+01  -1.090 0.275943    \n",
       "Shimmer.APQ5   1.385e-01  3.096e-02   4.475 7.83e-06 ***\n",
       "Shimmer.APQ11 -6.871e-02  1.652e-02  -4.159 3.25e-05 ***\n",
       "Shimmer.DDA    2.340e+01  2.146e+01   1.090 0.275605    \n",
       "NHR           -1.533e-02  1.320e-02  -1.161 0.245518    \n",
       "HNR           -2.765e-02  1.036e-02  -2.670 0.007617 ** \n",
       "RPDE           2.473e-02  6.394e-03   3.868 0.000111 ***\n",
       "DFA           -2.815e-02  5.953e-03  -4.728 2.33e-06 ***\n",
       "PPE           -3.270e-02  9.322e-03  -3.508 0.000455 ***\n",
       "---\n",
       "Signif. codes:  0 ‘***’ 0.001 ‘**’ 0.01 ‘*’ 0.05 ‘.’ 0.1 ‘ ’ 1\n",
       "\n",
       "Residual standard error: 0.3001 on 4679 degrees of freedom\n",
       "Multiple R-squared:  0.9096,\tAdjusted R-squared:  0.9091 \n",
       "F-statistic:  2139 on 22 and 4679 DF,  p-value: < 2.2e-16\n"
      ]
     },
     "metadata": {},
     "output_type": "display_data"
    }
   ],
   "source": [
    "# Train the linear regression model\n",
    "lm_model <- train(total_UPDRS ~ ., data = dataTrain, method = \"lm\")\n",
    "\n",
    "# Print model summary\n",
    "summary(lm_model)\n"
   ]
  },
  {
   "cell_type": "code",
   "execution_count": 35,
   "metadata": {
    "vscode": {
     "languageId": "r"
    }
   },
   "outputs": [
    {
     "name": "stderr",
     "output_type": "stream",
     "text": [
      "Warning message in nominalTrainWorkflow(x = x, y = y, wts = weights, info = trainInfo, :\n",
      "“There were missing values in resampled performance measures.”\n"
     ]
    },
    {
     "name": "stdout",
     "output_type": "stream",
     "text": [
      "CART \n",
      "\n",
      "4702 samples\n",
      "  22 predictor\n",
      "\n",
      "No pre-processing\n",
      "Resampling: Bootstrapped (25 reps) \n",
      "Summary of sample sizes: 4702, 4702, 4702, 4702, 4702, 4702, ... \n",
      "Resampling results across tuning parameters:\n",
      "\n",
      "  cp          RMSE       Rsquared   MAE      \n",
      "  0.09540417  0.4969178  0.7473948  0.3933870\n",
      "  0.09864946  0.5269552  0.7152486  0.4212974\n",
      "  0.63995982  0.7274553  0.6327736  0.5963647\n",
      "\n",
      "RMSE was used to select the optimal model using the smallest value.\n",
      "The final value used for the model was cp = 0.09540417.\n"
     ]
    }
   ],
   "source": [
    "# Train the decision tree model\n",
    "dt_model <- train(total_UPDRS ~ ., data = dataTrain, method = \"rpart\")\n",
    "\n",
    "# Print model summary\n",
    "print(dt_model)\n"
   ]
  }
 ],
 "metadata": {
  "kernelspec": {
   "display_name": "R",
   "language": "R",
   "name": "ir"
  },
  "language_info": {
   "codemirror_mode": "r",
   "file_extension": ".r",
   "mimetype": "text/x-r-source",
   "name": "R",
   "pygments_lexer": "r",
   "version": "4.1.1"
  }
 },
 "nbformat": 4,
 "nbformat_minor": 2
}
